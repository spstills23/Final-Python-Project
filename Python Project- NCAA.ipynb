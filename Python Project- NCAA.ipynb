{
 "cells": [
  {
   "cell_type": "markdown",
   "metadata": {},
   "source": [
    "#      Does a college basketball team perform better when their mascot is Human or Non-Human in the NCAA basketball Tournament?\n",
    "### -This report will take the results from every NCAA Tournamnet game since the 1985 season and compare whether teams with Non-Human or Human mascots win more"
   ]
  },
  {
   "cell_type": "code",
   "execution_count": 1,
   "metadata": {},
   "outputs": [],
   "source": [
    "import os\n",
    "import numpy as np\n",
    "import pandas as pd\n",
    "import matplotlib.pyplot as plt\n",
    "import sqlite3"
   ]
  },
  {
   "cell_type": "markdown",
   "metadata": {},
   "source": [
    "#### Below I will be creating the following dataframes from .csv files from Kaggle about NCAA Basketball Tournamnet Teams:\n",
    "    mascots_df- shows the teams as well as their respective mascots\n",
    "    colors_df- shows the teams with their team colors \n",
    "    tourny_df- shows the teams, scores of earch team in the game, seeds and other data not used\n",
    "#### I will also take the above dataframes and create one SQL databases with 3 differnt tables to query them down to managable sizes to manipulate"
   ]
  },
  {
   "cell_type": "markdown",
   "metadata": {},
   "source": [
    "### Mascots "
   ]
  },
  {
   "cell_type": "code",
   "execution_count": 2,
   "metadata": {
    "scrolled": true
   },
   "outputs": [
    {
     "data": {
      "text/html": [
       "<div>\n",
       "<style scoped>\n",
       "    .dataframe tbody tr th:only-of-type {\n",
       "        vertical-align: middle;\n",
       "    }\n",
       "\n",
       "    .dataframe tbody tr th {\n",
       "        vertical-align: top;\n",
       "    }\n",
       "\n",
       "    .dataframe thead th {\n",
       "        text-align: right;\n",
       "    }\n",
       "</style>\n",
       "<table border=\"1\" class=\"dataframe\">\n",
       "  <thead>\n",
       "    <tr style=\"text-align: right;\">\n",
       "      <th></th>\n",
       "      <th>id</th>\n",
       "      <th>market</th>\n",
       "      <th>name</th>\n",
       "      <th>mascot</th>\n",
       "      <th>mascot_name</th>\n",
       "      <th>mascot_common_name</th>\n",
       "    </tr>\n",
       "  </thead>\n",
       "  <tbody>\n",
       "    <tr>\n",
       "      <th>0</th>\n",
       "      <td>2959bd24-7007-41ae-a3a3-abdf26888cfc</td>\n",
       "      <td>Tulsa</td>\n",
       "      <td>Golden Hurricane</td>\n",
       "      <td>Hurricane</td>\n",
       "      <td>Captain Cane</td>\n",
       "      <td>Hurricane</td>\n",
       "    </tr>\n",
       "    <tr>\n",
       "      <th>1</th>\n",
       "      <td>ad4bc983-8d2e-4e6f-a8f9-80840a786c64</td>\n",
       "      <td>Arizona State</td>\n",
       "      <td>Sun Devils</td>\n",
       "      <td>Devil</td>\n",
       "      <td>Sparky</td>\n",
       "      <td>Devil</td>\n",
       "    </tr>\n",
       "    <tr>\n",
       "      <th>2</th>\n",
       "      <td>f2d01b77-0f5d-4574-9e49-2a3eaf822e44</td>\n",
       "      <td>Drexel</td>\n",
       "      <td>Dragons</td>\n",
       "      <td>Dragon</td>\n",
       "      <td>Mario the Magnificent</td>\n",
       "      <td>Dragon</td>\n",
       "    </tr>\n",
       "    <tr>\n",
       "      <th>3</th>\n",
       "      <td>b47d10b8-a2a5-47df-a2f9-7bd0b9d51beb</td>\n",
       "      <td>Bradley</td>\n",
       "      <td>Braves</td>\n",
       "      <td>Gargoyle</td>\n",
       "      <td>Kaboom!</td>\n",
       "      <td>Gargoyle</td>\n",
       "    </tr>\n",
       "    <tr>\n",
       "      <th>4</th>\n",
       "      <td>0113eea0-c943-4fff-9780-ae0fb099e7ef</td>\n",
       "      <td>Canisius</td>\n",
       "      <td>Golden Griffins</td>\n",
       "      <td>Griffin</td>\n",
       "      <td>Petey</td>\n",
       "      <td>Griffin</td>\n",
       "    </tr>\n",
       "  </tbody>\n",
       "</table>\n",
       "</div>"
      ],
      "text/plain": [
       "                                     id         market              name  \\\n",
       "0  2959bd24-7007-41ae-a3a3-abdf26888cfc          Tulsa  Golden Hurricane   \n",
       "1  ad4bc983-8d2e-4e6f-a8f9-80840a786c64  Arizona State        Sun Devils   \n",
       "2  f2d01b77-0f5d-4574-9e49-2a3eaf822e44         Drexel           Dragons   \n",
       "3  b47d10b8-a2a5-47df-a2f9-7bd0b9d51beb        Bradley            Braves   \n",
       "4  0113eea0-c943-4fff-9780-ae0fb099e7ef       Canisius   Golden Griffins   \n",
       "\n",
       "      mascot            mascot_name mascot_common_name  \n",
       "0  Hurricane           Captain Cane          Hurricane  \n",
       "1      Devil                 Sparky              Devil  \n",
       "2     Dragon  Mario the Magnificent             Dragon  \n",
       "3   Gargoyle                Kaboom!           Gargoyle  \n",
       "4    Griffin                  Petey            Griffin  "
      ]
     },
     "execution_count": 2,
     "metadata": {},
     "output_type": "execute_result"
    }
   ],
   "source": [
    "df1_df = pd.read_csv(\"team_mascots.csv\", delimiter = ',')\n",
    "df1_df.to_sql(\"mascot_table\", sqlite3.connect(\"NCAAtournamentStats.db\"), if_exists = \"replace\")\n",
    "\n",
    "con = sqlite3.connect(\"NCAAtournamentStats.db\")\n",
    "mascots_df =pd.read_sql_query(\"SELECT id, market, name, mascot, mascot_name, mascot_common_name FROM mascot_table\", con)\n",
    "mascots_df.head()"
   ]
  },
  {
   "cell_type": "markdown",
   "metadata": {},
   "source": [
    "### Team Colors"
   ]
  },
  {
   "cell_type": "code",
   "execution_count": 3,
   "metadata": {
    "scrolled": true
   },
   "outputs": [
    {
     "data": {
      "text/html": [
       "<div>\n",
       "<style scoped>\n",
       "    .dataframe tbody tr th:only-of-type {\n",
       "        vertical-align: middle;\n",
       "    }\n",
       "\n",
       "    .dataframe tbody tr th {\n",
       "        vertical-align: top;\n",
       "    }\n",
       "\n",
       "    .dataframe thead th {\n",
       "        text-align: right;\n",
       "    }\n",
       "</style>\n",
       "<table border=\"1\" class=\"dataframe\">\n",
       "  <thead>\n",
       "    <tr style=\"text-align: right;\">\n",
       "      <th></th>\n",
       "      <th>market</th>\n",
       "      <th>id</th>\n",
       "      <th>code_ncaa</th>\n",
       "      <th>color</th>\n",
       "    </tr>\n",
       "  </thead>\n",
       "  <tbody>\n",
       "    <tr>\n",
       "      <th>0</th>\n",
       "      <td>Milwaukee</td>\n",
       "      <td>5d77800f-1ae6-4b66-8e97-b0dbb8bbc717</td>\n",
       "      <td>797</td>\n",
       "      <td>#000000</td>\n",
       "    </tr>\n",
       "    <tr>\n",
       "      <th>1</th>\n",
       "      <td>Colorado</td>\n",
       "      <td>9fccbf28-2858-4263-821c-fdefb3c7efa3</td>\n",
       "      <td>157</td>\n",
       "      <td>#000000</td>\n",
       "    </tr>\n",
       "    <tr>\n",
       "      <th>2</th>\n",
       "      <td>Northeastern</td>\n",
       "      <td>93df9b18-e9fc-42a7-bb45-a736c203b4dc</td>\n",
       "      <td>500</td>\n",
       "      <td>#000000</td>\n",
       "    </tr>\n",
       "    <tr>\n",
       "      <th>3</th>\n",
       "      <td>Georgia Southern</td>\n",
       "      <td>6b955b96-b736-475e-bffd-e4acf2054169</td>\n",
       "      <td>253</td>\n",
       "      <td>#000066</td>\n",
       "    </tr>\n",
       "    <tr>\n",
       "      <th>4</th>\n",
       "      <td>Richmond</td>\n",
       "      <td>9b66e1e0-aace-4671-9be2-54c8acf5ecfc</td>\n",
       "      <td>575</td>\n",
       "      <td>#000066</td>\n",
       "    </tr>\n",
       "  </tbody>\n",
       "</table>\n",
       "</div>"
      ],
      "text/plain": [
       "             market                                    id  code_ncaa    color\n",
       "0         Milwaukee  5d77800f-1ae6-4b66-8e97-b0dbb8bbc717        797  #000000\n",
       "1          Colorado  9fccbf28-2858-4263-821c-fdefb3c7efa3        157  #000000\n",
       "2      Northeastern  93df9b18-e9fc-42a7-bb45-a736c203b4dc        500  #000000\n",
       "3  Georgia Southern  6b955b96-b736-475e-bffd-e4acf2054169        253  #000066\n",
       "4          Richmond  9b66e1e0-aace-4671-9be2-54c8acf5ecfc        575  #000066"
      ]
     },
     "execution_count": 3,
     "metadata": {},
     "output_type": "execute_result"
    }
   ],
   "source": [
    "df2 = pd.read_csv(\"team_colors.csv\", delimiter = ',')\n",
    "df2.to_sql(\"colors_table\", sqlite3.connect(\"NCAAtournamentStats.db\"), if_exists = \"replace\")\n",
    "\n",
    "con = sqlite3.connect(\"NCAAtournamentStats.db\")\n",
    "colors_df = pd.read_sql_query(\"SELECT market,id,code_ncaa,color FROM colors_table\", con)\n",
    "colors_df.head()"
   ]
  },
  {
   "cell_type": "markdown",
   "metadata": {},
   "source": [
    "### Team Tournamnet Stats"
   ]
  },
  {
   "cell_type": "code",
   "execution_count": 4,
   "metadata": {},
   "outputs": [
    {
     "data": {
      "text/html": [
       "<div>\n",
       "<style scoped>\n",
       "    .dataframe tbody tr th:only-of-type {\n",
       "        vertical-align: middle;\n",
       "    }\n",
       "\n",
       "    .dataframe tbody tr th {\n",
       "        vertical-align: top;\n",
       "    }\n",
       "\n",
       "    .dataframe thead th {\n",
       "        text-align: right;\n",
       "    }\n",
       "</style>\n",
       "<table border=\"1\" class=\"dataframe\">\n",
       "  <thead>\n",
       "    <tr style=\"text-align: right;\">\n",
       "      <th></th>\n",
       "      <th>home_team</th>\n",
       "      <th>home_team_score</th>\n",
       "      <th>away_team</th>\n",
       "      <th>away_team_score</th>\n",
       "    </tr>\n",
       "  </thead>\n",
       "  <tbody>\n",
       "    <tr>\n",
       "      <th>0</th>\n",
       "      <td>St Johns</td>\n",
       "      <td>83</td>\n",
       "      <td>Southern</td>\n",
       "      <td>59</td>\n",
       "    </tr>\n",
       "    <tr>\n",
       "      <th>1</th>\n",
       "      <td>VCU</td>\n",
       "      <td>81</td>\n",
       "      <td>Marshall</td>\n",
       "      <td>65</td>\n",
       "    </tr>\n",
       "    <tr>\n",
       "      <th>2</th>\n",
       "      <td>Illinois</td>\n",
       "      <td>76</td>\n",
       "      <td>Northeastern</td>\n",
       "      <td>57</td>\n",
       "    </tr>\n",
       "    <tr>\n",
       "      <th>3</th>\n",
       "      <td>Loyola Illinois</td>\n",
       "      <td>59</td>\n",
       "      <td>Iona</td>\n",
       "      <td>58</td>\n",
       "    </tr>\n",
       "    <tr>\n",
       "      <th>4</th>\n",
       "      <td>SMU</td>\n",
       "      <td>85</td>\n",
       "      <td>Old Dominion</td>\n",
       "      <td>68</td>\n",
       "    </tr>\n",
       "  </tbody>\n",
       "</table>\n",
       "</div>"
      ],
      "text/plain": [
       "         home_team  home_team_score     away_team  away_team_score\n",
       "0         St Johns               83      Southern               59\n",
       "1              VCU               81      Marshall               65\n",
       "2         Illinois               76  Northeastern               57\n",
       "3  Loyola Illinois               59          Iona               58\n",
       "4              SMU               85  Old Dominion               68"
      ]
     },
     "execution_count": 4,
     "metadata": {},
     "output_type": "execute_result"
    }
   ],
   "source": [
    "df3 = pd.read_csv(\"tourny_stats.csv\", delimiter = ',')\n",
    "df3.to_sql(\"stats_table\", sqlite3.connect(\"NCAAtournamentStats.db\"), if_exists = \"replace\")\n",
    "\n",
    "con = sqlite3.connect(\"NCAAtournamentStats.db\")\n",
    "tourny_df = pd.read_sql_query(\"SELECT team, score, team_2, score_2  FROM stats_table\", con)\n",
    "tourny_df.rename(columns = {'team':'home_team','score':'home_team_score',\n",
    "                            'team_2':'away_team','score_2':'away_team_score'}).head()\n"
   ]
  },
  {
   "cell_type": "markdown",
   "metadata": {},
   "source": [
    "### Since the data that we are using doesnt have a 'winner' column we have to do some math. We will get the list of team_1 victors and then we will get the team_2 victors and combine the two dataframes to make one full list of victors"
   ]
  },
  {
   "cell_type": "code",
   "execution_count": 5,
   "metadata": {},
   "outputs": [
    {
     "data": {
      "text/html": [
       "<div>\n",
       "<style scoped>\n",
       "    .dataframe tbody tr th:only-of-type {\n",
       "        vertical-align: middle;\n",
       "    }\n",
       "\n",
       "    .dataframe tbody tr th {\n",
       "        vertical-align: top;\n",
       "    }\n",
       "\n",
       "    .dataframe thead th {\n",
       "        text-align: right;\n",
       "    }\n",
       "</style>\n",
       "<table border=\"1\" class=\"dataframe\">\n",
       "  <thead>\n",
       "    <tr style=\"text-align: right;\">\n",
       "      <th></th>\n",
       "      <th>team</th>\n",
       "      <th>score</th>\n",
       "    </tr>\n",
       "  </thead>\n",
       "  <tbody>\n",
       "    <tr>\n",
       "      <th>0</th>\n",
       "      <td>St Johns</td>\n",
       "      <td>83</td>\n",
       "    </tr>\n",
       "    <tr>\n",
       "      <th>1</th>\n",
       "      <td>VCU</td>\n",
       "      <td>81</td>\n",
       "    </tr>\n",
       "    <tr>\n",
       "      <th>2</th>\n",
       "      <td>Illinois</td>\n",
       "      <td>76</td>\n",
       "    </tr>\n",
       "    <tr>\n",
       "      <th>3</th>\n",
       "      <td>Loyola Illinois</td>\n",
       "      <td>59</td>\n",
       "    </tr>\n",
       "    <tr>\n",
       "      <th>4</th>\n",
       "      <td>SMU</td>\n",
       "      <td>85</td>\n",
       "    </tr>\n",
       "    <tr>\n",
       "      <th>5</th>\n",
       "      <td>Georgia</td>\n",
       "      <td>67</td>\n",
       "    </tr>\n",
       "    <tr>\n",
       "      <th>6</th>\n",
       "      <td>Syracuse</td>\n",
       "      <td>70</td>\n",
       "    </tr>\n",
       "    <tr>\n",
       "      <th>7</th>\n",
       "      <td>Temple</td>\n",
       "      <td>60</td>\n",
       "    </tr>\n",
       "    <tr>\n",
       "      <th>8</th>\n",
       "      <td>Oklahoma</td>\n",
       "      <td>96</td>\n",
       "    </tr>\n",
       "    <tr>\n",
       "      <th>9</th>\n",
       "      <td>Memphis</td>\n",
       "      <td>67</td>\n",
       "    </tr>\n",
       "  </tbody>\n",
       "</table>\n",
       "</div>"
      ],
      "text/plain": [
       "              team  score\n",
       "0         St Johns     83\n",
       "1              VCU     81\n",
       "2         Illinois     76\n",
       "3  Loyola Illinois     59\n",
       "4              SMU     85\n",
       "5          Georgia     67\n",
       "6         Syracuse     70\n",
       "7           Temple     60\n",
       "8         Oklahoma     96\n",
       "9          Memphis     67"
      ]
     },
     "execution_count": 5,
     "metadata": {},
     "output_type": "execute_result"
    }
   ],
   "source": [
    "teams_df = pd.read_sql_query(\"SELECT team, score FROM stats_table WHERE score > score_2 OR score < score_2\",con)\n",
    "teams_df.head(10)"
   ]
  },
  {
   "cell_type": "markdown",
   "metadata": {},
   "source": [
    "### Now below are all the instances where a team has won a NCAA Tourny Game since 1985 (mulitples included) combining team1 wins and team2 wins"
   ]
  },
  {
   "cell_type": "code",
   "execution_count": 6,
   "metadata": {},
   "outputs": [
    {
     "data": {
      "text/html": [
       "<div>\n",
       "<style scoped>\n",
       "    .dataframe tbody tr th:only-of-type {\n",
       "        vertical-align: middle;\n",
       "    }\n",
       "\n",
       "    .dataframe tbody tr th {\n",
       "        vertical-align: top;\n",
       "    }\n",
       "\n",
       "    .dataframe thead th {\n",
       "        text-align: right;\n",
       "    }\n",
       "</style>\n",
       "<table border=\"1\" class=\"dataframe\">\n",
       "  <thead>\n",
       "    <tr style=\"text-align: right;\">\n",
       "      <th></th>\n",
       "      <th>team</th>\n",
       "      <th>score</th>\n",
       "    </tr>\n",
       "  </thead>\n",
       "  <tbody>\n",
       "    <tr>\n",
       "      <th>1264</th>\n",
       "      <td>Alabama</td>\n",
       "      <td>73</td>\n",
       "    </tr>\n",
       "    <tr>\n",
       "      <th>143</th>\n",
       "      <td>Alabama</td>\n",
       "      <td>88</td>\n",
       "    </tr>\n",
       "    <tr>\n",
       "      <th>1228</th>\n",
       "      <td>Alabama</td>\n",
       "      <td>65</td>\n",
       "    </tr>\n",
       "    <tr>\n",
       "      <th>167</th>\n",
       "      <td>Alabama</td>\n",
       "      <td>101</td>\n",
       "    </tr>\n",
       "    <tr>\n",
       "      <th>405</th>\n",
       "      <td>Alabama</td>\n",
       "      <td>89</td>\n",
       "    </tr>\n",
       "  </tbody>\n",
       "</table>\n",
       "</div>"
      ],
      "text/plain": [
       "         team  score\n",
       "1264  Alabama     73\n",
       "143   Alabama     88\n",
       "1228  Alabama     65\n",
       "167   Alabama    101\n",
       "405   Alabama     89"
      ]
     },
     "execution_count": 6,
     "metadata": {},
     "output_type": "execute_result"
    }
   ],
   "source": [
    "teams_sorted = teams_df.sort_values('team', ascending=True).dropna()\n",
    "teams_sorted.head()"
   ]
  },
  {
   "cell_type": "markdown",
   "metadata": {},
   "source": [
    "## With the team wins tallied we are now able to see a list of teams with the most wins since 1985 as stated below:"
   ]
  },
  {
   "cell_type": "code",
   "execution_count": 7,
   "metadata": {},
   "outputs": [
    {
     "data": {
      "text/html": [
       "<div>\n",
       "<style scoped>\n",
       "    .dataframe tbody tr th:only-of-type {\n",
       "        vertical-align: middle;\n",
       "    }\n",
       "\n",
       "    .dataframe tbody tr th {\n",
       "        vertical-align: top;\n",
       "    }\n",
       "\n",
       "    .dataframe thead th {\n",
       "        text-align: right;\n",
       "    }\n",
       "</style>\n",
       "<table border=\"1\" class=\"dataframe\">\n",
       "  <thead>\n",
       "    <tr style=\"text-align: right;\">\n",
       "      <th></th>\n",
       "      <th>team</th>\n",
       "      <th>win_count</th>\n",
       "    </tr>\n",
       "  </thead>\n",
       "  <tbody>\n",
       "    <tr>\n",
       "      <th>0</th>\n",
       "      <td>Duke</td>\n",
       "      <td>98</td>\n",
       "    </tr>\n",
       "    <tr>\n",
       "      <th>1</th>\n",
       "      <td>North Carolina</td>\n",
       "      <td>94</td>\n",
       "    </tr>\n",
       "    <tr>\n",
       "      <th>2</th>\n",
       "      <td>Kansas</td>\n",
       "      <td>88</td>\n",
       "    </tr>\n",
       "    <tr>\n",
       "      <th>3</th>\n",
       "      <td>Kentucky</td>\n",
       "      <td>82</td>\n",
       "    </tr>\n",
       "    <tr>\n",
       "      <th>4</th>\n",
       "      <td>Arizona</td>\n",
       "      <td>62</td>\n",
       "    </tr>\n",
       "  </tbody>\n",
       "</table>\n",
       "</div>"
      ],
      "text/plain": [
       "             team  win_count\n",
       "0            Duke         98\n",
       "1  North Carolina         94\n",
       "2          Kansas         88\n",
       "3        Kentucky         82\n",
       "4         Arizona         62"
      ]
     },
     "execution_count": 7,
     "metadata": {},
     "output_type": "execute_result"
    }
   ],
   "source": [
    "team_tally_df = teams_sorted['team'].value_counts().to_frame('win_count').rename_axis('team').reset_index()\n",
    "team_tally_df.head()"
   ]
  },
  {
   "cell_type": "markdown",
   "metadata": {},
   "source": [
    "## Since we now have a list of total wins by teams we can perform some stats on the list:\n",
    "### - As you can see the vast majority of teams fall well below the 20 win mark with an average of 11 wins\n",
    "### - With a standard deviation of 17 wins this shows the great discrepency of the outliers present "
   ]
  },
  {
   "cell_type": "code",
   "execution_count": 8,
   "metadata": {},
   "outputs": [
    {
     "data": {
      "text/html": [
       "<div>\n",
       "<style scoped>\n",
       "    .dataframe tbody tr th:only-of-type {\n",
       "        vertical-align: middle;\n",
       "    }\n",
       "\n",
       "    .dataframe tbody tr th {\n",
       "        vertical-align: top;\n",
       "    }\n",
       "\n",
       "    .dataframe thead th {\n",
       "        text-align: right;\n",
       "    }\n",
       "</style>\n",
       "<table border=\"1\" class=\"dataframe\">\n",
       "  <thead>\n",
       "    <tr style=\"text-align: right;\">\n",
       "      <th></th>\n",
       "      <th>count</th>\n",
       "      <th>mean</th>\n",
       "      <th>std</th>\n",
       "      <th>min</th>\n",
       "      <th>25%</th>\n",
       "      <th>50%</th>\n",
       "      <th>75%</th>\n",
       "      <th>max</th>\n",
       "    </tr>\n",
       "  </thead>\n",
       "  <tbody>\n",
       "    <tr>\n",
       "      <th>win_count</th>\n",
       "      <td>161.0</td>\n",
       "      <td>13.304348</td>\n",
       "      <td>18.277734</td>\n",
       "      <td>1.0</td>\n",
       "      <td>1.0</td>\n",
       "      <td>5.0</td>\n",
       "      <td>17.0</td>\n",
       "      <td>98.0</td>\n",
       "    </tr>\n",
       "  </tbody>\n",
       "</table>\n",
       "</div>"
      ],
      "text/plain": [
       "           count       mean        std  min  25%  50%   75%   max\n",
       "win_count  161.0  13.304348  18.277734  1.0  1.0  5.0  17.0  98.0"
      ]
     },
     "execution_count": 8,
     "metadata": {},
     "output_type": "execute_result"
    }
   ],
   "source": [
    "#statistics of the win counts seperating every team\n",
    "team_tally_df.describe().T \n",
    "#.T changes stat layout from rows to columns"
   ]
  },
  {
   "cell_type": "code",
   "execution_count": 55,
   "metadata": {},
   "outputs": [
    {
     "data": {
      "image/png": "[encoded data removed]",
      "text/plain": [
       "<Figure size 640x480 with 1 Axes>"
      ]
     },
     "metadata": {},
     "output_type": "display_data"
    }
   ],
   "source": [
    "##creating a histogram to illustrate distribution of team wins\n",
    "\n",
    "plt.style.use('ggplot')\n",
    "ax = plt.hist(team_tally_df['win_count'], alpha=0.5,\n",
    "                histtype='stepfilled', color='steelblue',\n",
    "                edgecolor='none')\n",
    "plt.xlabel('Total Team Wins')\n",
    "plt.ylabel('Number of Teams')\n",
    "plt.suptitle(\"Distribution of Team NCAA Tournament Wins since 1985\")\n",
    "plt.show()"
   ]
  },
  {
   "cell_type": "markdown",
   "metadata": {},
   "source": [
    "## So here we have, in bar chart form, the top 25 college basketball teams in terms of NCAA Tournament Wins since 1985"
   ]
  },
  {
   "cell_type": "code",
   "execution_count": 49,
   "metadata": {
    "scrolled": true
   },
   "outputs": [
    {
     "data": {
      "image/png": "[encoded data removed]",
      "text/plain": [
       "<Figure size 600x240 with 1 Axes>"
      ]
     },
     "metadata": {},
     "output_type": "display_data"
    }
   ],
   "source": [
    "plt.figure(figsize=(7.5,3.0))\n",
    "ax = teams_sorted['team'].value_counts().head(25).plot('bar', title= 'Top 25 NCAA Tournament Wins per School Since 1985')\n",
    "ax.set_xlabel(\"Teams\")\n",
    "ax.set_ylabel(\"Wins\")\n",
    "plt.show()"
   ]
  },
  {
   "cell_type": "markdown",
   "metadata": {},
   "source": [
    "### Next we have to use the above data and filter out the Mascot Data frame with only the teams that have won an NCAA Tournamnet game"
   ]
  },
  {
   "cell_type": "code",
   "execution_count": 11,
   "metadata": {},
   "outputs": [
    {
     "data": {
      "text/html": [
       "<div>\n",
       "<style scoped>\n",
       "    .dataframe tbody tr th:only-of-type {\n",
       "        vertical-align: middle;\n",
       "    }\n",
       "\n",
       "    .dataframe tbody tr th {\n",
       "        vertical-align: top;\n",
       "    }\n",
       "\n",
       "    .dataframe thead th {\n",
       "        text-align: right;\n",
       "    }\n",
       "</style>\n",
       "<table border=\"1\" class=\"dataframe\">\n",
       "  <thead>\n",
       "    <tr style=\"text-align: right;\">\n",
       "      <th></th>\n",
       "      <th>id</th>\n",
       "      <th>market</th>\n",
       "      <th>name</th>\n",
       "      <th>mascot</th>\n",
       "      <th>mascot_name</th>\n",
       "      <th>mascot_common_name</th>\n",
       "    </tr>\n",
       "  </thead>\n",
       "  <tbody>\n",
       "    <tr>\n",
       "      <th>0</th>\n",
       "      <td>2959bd24-7007-41ae-a3a3-abdf26888cfc</td>\n",
       "      <td>Tulsa</td>\n",
       "      <td>Golden Hurricane</td>\n",
       "      <td>Hurricane</td>\n",
       "      <td>Captain Cane</td>\n",
       "      <td>Hurricane</td>\n",
       "    </tr>\n",
       "    <tr>\n",
       "      <th>3</th>\n",
       "      <td>b47d10b8-a2a5-47df-a2f9-7bd0b9d51beb</td>\n",
       "      <td>Bradley</td>\n",
       "      <td>Braves</td>\n",
       "      <td>Gargoyle</td>\n",
       "      <td>Kaboom!</td>\n",
       "      <td>Gargoyle</td>\n",
       "    </tr>\n",
       "    <tr>\n",
       "      <th>5</th>\n",
       "      <td>bdc2561d-f603-4fab-a262-f1d2af462277</td>\n",
       "      <td>Michigan</td>\n",
       "      <td>Wolverines</td>\n",
       "      <td>None</td>\n",
       "      <td>None</td>\n",
       "      <td>Wolverine</td>\n",
       "    </tr>\n",
       "    <tr>\n",
       "      <th>10</th>\n",
       "      <td>4fbebf0a-e117-4a0c-8f15-c247535a2a1b</td>\n",
       "      <td>Wake Forest</td>\n",
       "      <td>Demon Deacons</td>\n",
       "      <td>Demon</td>\n",
       "      <td>Demon Deacon</td>\n",
       "      <td>Demon</td>\n",
       "    </tr>\n",
       "    <tr>\n",
       "      <th>14</th>\n",
       "      <td>150148c2-ca8f-414f-8f41-d94a55d4a122</td>\n",
       "      <td>Illinois</td>\n",
       "      <td>Fighting Illini</td>\n",
       "      <td>None</td>\n",
       "      <td>None</td>\n",
       "      <td>Human</td>\n",
       "    </tr>\n",
       "  </tbody>\n",
       "</table>\n",
       "</div>"
      ],
      "text/plain": [
       "                                      id       market              name  \\\n",
       "0   2959bd24-7007-41ae-a3a3-abdf26888cfc        Tulsa  Golden Hurricane   \n",
       "3   b47d10b8-a2a5-47df-a2f9-7bd0b9d51beb      Bradley            Braves   \n",
       "5   bdc2561d-f603-4fab-a262-f1d2af462277     Michigan        Wolverines   \n",
       "10  4fbebf0a-e117-4a0c-8f15-c247535a2a1b  Wake Forest     Demon Deacons   \n",
       "14  150148c2-ca8f-414f-8f41-d94a55d4a122     Illinois   Fighting Illini   \n",
       "\n",
       "       mascot   mascot_name mascot_common_name  \n",
       "0   Hurricane  Captain Cane          Hurricane  \n",
       "3    Gargoyle       Kaboom!           Gargoyle  \n",
       "5        None          None          Wolverine  \n",
       "10      Demon  Demon Deacon              Demon  \n",
       "14       None          None              Human  "
      ]
     },
     "execution_count": 11,
     "metadata": {},
     "output_type": "execute_result"
    }
   ],
   "source": [
    "mascot_wins_df = mascots_df.loc[mascots_df.market.isin(teams_sorted['team'])]\n",
    "mascot_wins_df.head()"
   ]
  },
  {
   "cell_type": "markdown",
   "metadata": {},
   "source": [
    "### Once the mascots have been filtered out we can merge the mascot's \"common name\" with the team name and win counts"
   ]
  },
  {
   "cell_type": "code",
   "execution_count": 12,
   "metadata": {},
   "outputs": [
    {
     "data": {
      "text/html": [
       "<div>\n",
       "<style scoped>\n",
       "    .dataframe tbody tr th:only-of-type {\n",
       "        vertical-align: middle;\n",
       "    }\n",
       "\n",
       "    .dataframe tbody tr th {\n",
       "        vertical-align: top;\n",
       "    }\n",
       "\n",
       "    .dataframe thead th {\n",
       "        text-align: right;\n",
       "    }\n",
       "</style>\n",
       "<table border=\"1\" class=\"dataframe\">\n",
       "  <thead>\n",
       "    <tr style=\"text-align: right;\">\n",
       "      <th></th>\n",
       "      <th>id</th>\n",
       "      <th>team</th>\n",
       "      <th>mascot_common_name</th>\n",
       "      <th>win_count</th>\n",
       "    </tr>\n",
       "  </thead>\n",
       "  <tbody>\n",
       "    <tr>\n",
       "      <th>11</th>\n",
       "      <td>faeb1160-5d15-4f26-99fc-c441cf21fc7f</td>\n",
       "      <td>Duke</td>\n",
       "      <td>Blue Devil</td>\n",
       "      <td>98</td>\n",
       "    </tr>\n",
       "    <tr>\n",
       "      <th>100</th>\n",
       "      <td>e9ca48b2-00ba-41c0-a02b-6885a2da1ff1</td>\n",
       "      <td>North Carolina</td>\n",
       "      <td>Sheep</td>\n",
       "      <td>94</td>\n",
       "    </tr>\n",
       "    <tr>\n",
       "      <th>8</th>\n",
       "      <td>fae4855b-1b64-4b40-a632-9ed345e1e952</td>\n",
       "      <td>Kansas</td>\n",
       "      <td>Jayhawk</td>\n",
       "      <td>88</td>\n",
       "    </tr>\n",
       "    <tr>\n",
       "      <th>63</th>\n",
       "      <td>2267a1f4-68f6-418b-aaf6-2aa0c4b291f1</td>\n",
       "      <td>Kentucky</td>\n",
       "      <td>Wildcat</td>\n",
       "      <td>82</td>\n",
       "    </tr>\n",
       "    <tr>\n",
       "      <th>65</th>\n",
       "      <td>9b166a3f-e64b-4825-bb6b-92c6f0418263</td>\n",
       "      <td>Arizona</td>\n",
       "      <td>Wildcat</td>\n",
       "      <td>62</td>\n",
       "    </tr>\n",
       "    <tr>\n",
       "      <th>89</th>\n",
       "      <td>8cd24de1-2be8-4b77-bcfa-47be0495a5f4</td>\n",
       "      <td>Syracuse</td>\n",
       "      <td>Orange</td>\n",
       "      <td>50</td>\n",
       "    </tr>\n",
       "    <tr>\n",
       "      <th>107</th>\n",
       "      <td>b795ddbc-baab-4499-8803-52e8608520ab</td>\n",
       "      <td>Louisville</td>\n",
       "      <td>Cardinal</td>\n",
       "      <td>47</td>\n",
       "    </tr>\n",
       "    <tr>\n",
       "      <th>80</th>\n",
       "      <td>efba5350-79bc-47aa-a189-db177b95b491</td>\n",
       "      <td>Connecticut</td>\n",
       "      <td>Domestic dog</td>\n",
       "      <td>45</td>\n",
       "    </tr>\n",
       "    <tr>\n",
       "      <th>70</th>\n",
       "      <td>ec0d6b67-4b16-4b50-92b2-1a651dae6b0f</td>\n",
       "      <td>UCLA</td>\n",
       "      <td>Brown Bear</td>\n",
       "      <td>44</td>\n",
       "    </tr>\n",
       "    <tr>\n",
       "      <th>26</th>\n",
       "      <td>b2fda957-e15c-4fb2-8a13-6e58496f561e</td>\n",
       "      <td>Oklahoma</td>\n",
       "      <td>Human</td>\n",
       "      <td>42</td>\n",
       "    </tr>\n",
       "  </tbody>\n",
       "</table>\n",
       "</div>"
      ],
      "text/plain": [
       "                                       id            team mascot_common_name  \\\n",
       "11   faeb1160-5d15-4f26-99fc-c441cf21fc7f            Duke         Blue Devil   \n",
       "100  e9ca48b2-00ba-41c0-a02b-6885a2da1ff1  North Carolina              Sheep   \n",
       "8    fae4855b-1b64-4b40-a632-9ed345e1e952          Kansas            Jayhawk   \n",
       "63   2267a1f4-68f6-418b-aaf6-2aa0c4b291f1        Kentucky            Wildcat   \n",
       "65   9b166a3f-e64b-4825-bb6b-92c6f0418263         Arizona            Wildcat   \n",
       "89   8cd24de1-2be8-4b77-bcfa-47be0495a5f4        Syracuse             Orange   \n",
       "107  b795ddbc-baab-4499-8803-52e8608520ab      Louisville           Cardinal   \n",
       "80   efba5350-79bc-47aa-a189-db177b95b491     Connecticut       Domestic dog   \n",
       "70   ec0d6b67-4b16-4b50-92b2-1a651dae6b0f            UCLA         Brown Bear   \n",
       "26   b2fda957-e15c-4fb2-8a13-6e58496f561e        Oklahoma              Human   \n",
       "\n",
       "     win_count  \n",
       "11          98  \n",
       "100         94  \n",
       "8           88  \n",
       "63          82  \n",
       "65          62  \n",
       "89          50  \n",
       "107         47  \n",
       "80          45  \n",
       "70          44  \n",
       "26          42  "
      ]
     },
     "execution_count": 12,
     "metadata": {},
     "output_type": "execute_result"
    }
   ],
   "source": [
    "mascot_wins_split_df = pd.merge(mascot_wins_df, team_tally_df, how=\"left\", left_on=[\"market\"], right_on=[\"team\"])\n",
    "sorted_mascot_wins = mascot_wins_split_df[[\"id\",\"team\",\"mascot_common_name\",\n",
    "                                           \"win_count\"]].sort_values('win_count', ascending=False)\n",
    "sorted_mascot_wins.head(10)"
   ]
  },
  {
   "cell_type": "markdown",
   "metadata": {},
   "source": [
    "### Now we will further catagorize the mascot names by being either Human or Non-Human and sorting then "
   ]
  },
  {
   "cell_type": "code",
   "execution_count": 13,
   "metadata": {},
   "outputs": [
    {
     "data": {
      "text/html": [
       "<div>\n",
       "<style scoped>\n",
       "    .dataframe tbody tr th:only-of-type {\n",
       "        vertical-align: middle;\n",
       "    }\n",
       "\n",
       "    .dataframe tbody tr th {\n",
       "        vertical-align: top;\n",
       "    }\n",
       "\n",
       "    .dataframe thead th {\n",
       "        text-align: right;\n",
       "    }\n",
       "</style>\n",
       "<table border=\"1\" class=\"dataframe\">\n",
       "  <thead>\n",
       "    <tr style=\"text-align: right;\">\n",
       "      <th></th>\n",
       "      <th>id</th>\n",
       "      <th>team</th>\n",
       "      <th>mascot_common_name</th>\n",
       "      <th>win_count</th>\n",
       "      <th>mascot_type</th>\n",
       "    </tr>\n",
       "  </thead>\n",
       "  <tbody>\n",
       "    <tr>\n",
       "      <th>11</th>\n",
       "      <td>faeb1160-5d15-4f26-99fc-c441cf21fc7f</td>\n",
       "      <td>Duke</td>\n",
       "      <td>Blue Devil</td>\n",
       "      <td>98</td>\n",
       "      <td>Non_Human</td>\n",
       "    </tr>\n",
       "    <tr>\n",
       "      <th>100</th>\n",
       "      <td>e9ca48b2-00ba-41c0-a02b-6885a2da1ff1</td>\n",
       "      <td>North Carolina</td>\n",
       "      <td>Sheep</td>\n",
       "      <td>94</td>\n",
       "      <td>Non_Human</td>\n",
       "    </tr>\n",
       "    <tr>\n",
       "      <th>8</th>\n",
       "      <td>fae4855b-1b64-4b40-a632-9ed345e1e952</td>\n",
       "      <td>Kansas</td>\n",
       "      <td>Jayhawk</td>\n",
       "      <td>88</td>\n",
       "      <td>Non_Human</td>\n",
       "    </tr>\n",
       "    <tr>\n",
       "      <th>63</th>\n",
       "      <td>2267a1f4-68f6-418b-aaf6-2aa0c4b291f1</td>\n",
       "      <td>Kentucky</td>\n",
       "      <td>Wildcat</td>\n",
       "      <td>82</td>\n",
       "      <td>Non_Human</td>\n",
       "    </tr>\n",
       "    <tr>\n",
       "      <th>65</th>\n",
       "      <td>9b166a3f-e64b-4825-bb6b-92c6f0418263</td>\n",
       "      <td>Arizona</td>\n",
       "      <td>Wildcat</td>\n",
       "      <td>62</td>\n",
       "      <td>Non_Human</td>\n",
       "    </tr>\n",
       "  </tbody>\n",
       "</table>\n",
       "</div>"
      ],
      "text/plain": [
       "                                       id            team mascot_common_name  \\\n",
       "11   faeb1160-5d15-4f26-99fc-c441cf21fc7f            Duke         Blue Devil   \n",
       "100  e9ca48b2-00ba-41c0-a02b-6885a2da1ff1  North Carolina              Sheep   \n",
       "8    fae4855b-1b64-4b40-a632-9ed345e1e952          Kansas            Jayhawk   \n",
       "63   2267a1f4-68f6-418b-aaf6-2aa0c4b291f1        Kentucky            Wildcat   \n",
       "65   9b166a3f-e64b-4825-bb6b-92c6f0418263         Arizona            Wildcat   \n",
       "\n",
       "     win_count mascot_type  \n",
       "11          98   Non_Human  \n",
       "100         94   Non_Human  \n",
       "8           88   Non_Human  \n",
       "63          82   Non_Human  \n",
       "65          62   Non_Human  "
      ]
     },
     "execution_count": 13,
     "metadata": {},
     "output_type": "execute_result"
    }
   ],
   "source": [
    "sorted_mascot_wins['mascot_type'] = np.where(sorted_mascot_wins['mascot_common_name']=='Human', 'Human', 'Non_Human')\n",
    "sorted_mascot_wins.sort_values('mascot_type', ascending=False)\n",
    "sorted_mascot_wins.head()"
   ]
  },
  {
   "cell_type": "markdown",
   "metadata": {},
   "source": [
    "### After catagorizing our mascot types we can now count how many are in the dataframe and return a tally of each."
   ]
  },
  {
   "cell_type": "code",
   "execution_count": 14,
   "metadata": {
    "scrolled": true
   },
   "outputs": [
    {
     "data": {
      "text/plain": [
       "mascot_type\n",
       "Human        30\n",
       "Non_Human    78\n",
       "Name: win_count, dtype: int64"
      ]
     },
     "execution_count": 14,
     "metadata": {},
     "output_type": "execute_result"
    }
   ],
   "source": [
    "mascot_tally = sorted_mascot_wins.groupby(['mascot_type'])[\"win_count\"].count()\n",
    "mascot_tally"
   ]
  },
  {
   "cell_type": "code",
   "execution_count": 15,
   "metadata": {},
   "outputs": [
    {
     "data": {
      "text/plain": [
       "mascot_type\n",
       "Human        10.833333\n",
       "Non_Human    18.371795\n",
       "Name: win_count, dtype: float64"
      ]
     },
     "execution_count": 15,
     "metadata": {},
     "output_type": "execute_result"
    }
   ],
   "source": [
    "mascot_tally_mean = sorted_mascot_wins.groupby(['mascot_type'])[\"win_count\"].mean()\n",
    "mascot_tally_mean"
   ]
  },
  {
   "cell_type": "markdown",
   "metadata": {},
   "source": [
    "### With the tally of each mascot type we can now create a bar chart depicting the difference as well as a pie chart to demonstrate the percentages."
   ]
  },
  {
   "cell_type": "code",
   "execution_count": 50,
   "metadata": {},
   "outputs": [
    {
     "data": {
      "image/png": "[encoded data removed]",
      "text/plain": [
       "<Figure size 640x480 with 1 Axes>"
      ]
     },
     "metadata": {},
     "output_type": "display_data"
    }
   ],
   "source": [
    "#creating a bar chart depicting the difference of human and non-human wins\n",
    "ax = mascot_tally.plot('bar', color = ['silver','lightblue'], \n",
    "                       fontsize=10,  title= 'Mascot-Type NCAA Tournamnet Wins per School Since 1985')\n",
    "ax.set_xlabel(\"\")\n",
    "ax.set_ylabel(\"Wins\")\n",
    "plt.show()"
   ]
  },
  {
   "cell_type": "code",
   "execution_count": 51,
   "metadata": {},
   "outputs": [
    {
     "data": {
      "image/png": "[encoded data removed]",
      "text/plain": [
       "<Figure size 640x480 with 1 Axes>"
      ]
     },
     "metadata": {},
     "output_type": "display_data"
    }
   ],
   "source": [
    "#creating a pie chart depicting the ratio of human and non-human wins\n",
    "\n",
    "\n",
    "ax= mascot_tally.plot.pie(shadow=True, counterclock=False, colors = ['silver','lightblue'], fontsize=12,\n",
    "                  autopct='%1.0f%%', title= 'Human vs Non-Human Mascots NCAA Tournamnet Wins Since 1985')\n",
    "ax.set_ylabel('')\n",
    "plt.show()"
   ]
  },
  {
   "cell_type": "markdown",
   "metadata": {},
   "source": [
    "### So with the above data presented there is in fact a trend, at least on the surface, showing Non-Human Mascots win about 72% more often than Human Mascots\n",
    "\n",
    "### Now lets look a little deeper and explore the how this trend continues with conference breakdowns."
   ]
  },
  {
   "cell_type": "markdown",
   "metadata": {},
   "source": [
    "## Conferences\n",
    "### We took a look at total wins in the NCAA Tournamnet for each team and if their mascot played a role in that count but next we will go a little bit deeper and explore it conference by conference and even splitting it up into Power 5 conferences and smaller conferences and seeing if the trend stays abou the same across the board.\n"
   ]
  },
  {
   "cell_type": "markdown",
   "metadata": {},
   "source": [
    "#### The only data sets we have are two csv files that have a team ID and name in one and team ID and conference name in the other so we need to merge the two matching the team ID with the team name and conference name"
   ]
  },
  {
   "cell_type": "code",
   "execution_count": 18,
   "metadata": {},
   "outputs": [
    {
     "data": {
      "text/html": [
       "<div>\n",
       "<style scoped>\n",
       "    .dataframe tbody tr th:only-of-type {\n",
       "        vertical-align: middle;\n",
       "    }\n",
       "\n",
       "    .dataframe tbody tr th {\n",
       "        vertical-align: top;\n",
       "    }\n",
       "\n",
       "    .dataframe thead th {\n",
       "        text-align: right;\n",
       "    }\n",
       "</style>\n",
       "<table border=\"1\" class=\"dataframe\">\n",
       "  <thead>\n",
       "    <tr style=\"text-align: right;\">\n",
       "      <th></th>\n",
       "      <th>TeamID</th>\n",
       "      <th>TeamName</th>\n",
       "    </tr>\n",
       "  </thead>\n",
       "  <tbody>\n",
       "    <tr>\n",
       "      <th>0</th>\n",
       "      <td>1101</td>\n",
       "      <td>Abilene Chr</td>\n",
       "    </tr>\n",
       "    <tr>\n",
       "      <th>1</th>\n",
       "      <td>1102</td>\n",
       "      <td>Air Force</td>\n",
       "    </tr>\n",
       "    <tr>\n",
       "      <th>2</th>\n",
       "      <td>1103</td>\n",
       "      <td>Akron</td>\n",
       "    </tr>\n",
       "    <tr>\n",
       "      <th>3</th>\n",
       "      <td>1104</td>\n",
       "      <td>Alabama</td>\n",
       "    </tr>\n",
       "    <tr>\n",
       "      <th>4</th>\n",
       "      <td>1105</td>\n",
       "      <td>Alabama A&amp;M</td>\n",
       "    </tr>\n",
       "  </tbody>\n",
       "</table>\n",
       "</div>"
      ],
      "text/plain": [
       "   TeamID     TeamName\n",
       "0    1101  Abilene Chr\n",
       "1    1102    Air Force\n",
       "2    1103        Akron\n",
       "3    1104      Alabama\n",
       "4    1105  Alabama A&M"
      ]
     },
     "execution_count": 18,
     "metadata": {},
     "output_type": "execute_result"
    }
   ],
   "source": [
    "# creating a df and a SQL database with our team IDs with team names to pull from.\n",
    "\n",
    "df3_df = pd.read_csv(\"Teams.csv\", delimiter = ',')\n",
    "df3_df.to_sql(\"teams_table\", sqlite3.connect(\"NCAAtournamentStats.db\"), if_exists = \"replace\")\n",
    "\n",
    "con = sqlite3.connect(\"NCAAtournamentStats.db\")\n",
    "teams_df =pd.read_sql_query(\"SELECT TeamID, TeamName FROM teams_table\", con)\n",
    "teams_df.head()"
   ]
  },
  {
   "cell_type": "code",
   "execution_count": 19,
   "metadata": {},
   "outputs": [
    {
     "data": {
      "text/html": [
       "<div>\n",
       "<style scoped>\n",
       "    .dataframe tbody tr th:only-of-type {\n",
       "        vertical-align: middle;\n",
       "    }\n",
       "\n",
       "    .dataframe tbody tr th {\n",
       "        vertical-align: top;\n",
       "    }\n",
       "\n",
       "    .dataframe thead th {\n",
       "        text-align: right;\n",
       "    }\n",
       "</style>\n",
       "<table border=\"1\" class=\"dataframe\">\n",
       "  <thead>\n",
       "    <tr style=\"text-align: right;\">\n",
       "      <th></th>\n",
       "      <th>TeamID</th>\n",
       "      <th>ConfAbbrev</th>\n",
       "    </tr>\n",
       "  </thead>\n",
       "  <tbody>\n",
       "    <tr>\n",
       "      <th>0</th>\n",
       "      <td>1114</td>\n",
       "      <td>a_sun</td>\n",
       "    </tr>\n",
       "    <tr>\n",
       "      <th>1</th>\n",
       "      <td>1147</td>\n",
       "      <td>a_sun</td>\n",
       "    </tr>\n",
       "    <tr>\n",
       "      <th>2</th>\n",
       "      <td>1204</td>\n",
       "      <td>a_sun</td>\n",
       "    </tr>\n",
       "    <tr>\n",
       "      <th>3</th>\n",
       "      <td>1209</td>\n",
       "      <td>a_sun</td>\n",
       "    </tr>\n",
       "    <tr>\n",
       "      <th>4</th>\n",
       "      <td>1215</td>\n",
       "      <td>a_sun</td>\n",
       "    </tr>\n",
       "  </tbody>\n",
       "</table>\n",
       "</div>"
      ],
      "text/plain": [
       "   TeamID ConfAbbrev\n",
       "0    1114      a_sun\n",
       "1    1147      a_sun\n",
       "2    1204      a_sun\n",
       "3    1209      a_sun\n",
       "4    1215      a_sun"
      ]
     },
     "execution_count": 19,
     "metadata": {},
     "output_type": "execute_result"
    }
   ],
   "source": [
    "# creating df and SQL database with team IDs and conferences\n",
    "\n",
    "df4_df = pd.read_csv(\"TeamConferences.csv\", delimiter = ',')\n",
    "df4_df.to_sql(\"conference_table\", sqlite3.connect(\"NCAAtournamentStats.db\"), if_exists = \"replace\")\n",
    "\n",
    "con = sqlite3.connect(\"NCAAtournamentStats.db\")\n",
    "conf_df =pd.read_sql_query(\"SELECT TeamID, ConfAbbrev FROM conference_table\", con)\n",
    "conf_df.head()"
   ]
  },
  {
   "cell_type": "code",
   "execution_count": 20,
   "metadata": {},
   "outputs": [
    {
     "data": {
      "text/html": [
       "<div>\n",
       "<style scoped>\n",
       "    .dataframe tbody tr th:only-of-type {\n",
       "        vertical-align: middle;\n",
       "    }\n",
       "\n",
       "    .dataframe tbody tr th {\n",
       "        vertical-align: top;\n",
       "    }\n",
       "\n",
       "    .dataframe thead th {\n",
       "        text-align: right;\n",
       "    }\n",
       "</style>\n",
       "<table border=\"1\" class=\"dataframe\">\n",
       "  <thead>\n",
       "    <tr style=\"text-align: right;\">\n",
       "      <th></th>\n",
       "      <th>TeamName</th>\n",
       "      <th>ConfAbbrev</th>\n",
       "    </tr>\n",
       "  </thead>\n",
       "  <tbody>\n",
       "    <tr>\n",
       "      <th>0</th>\n",
       "      <td>Abilene Chr</td>\n",
       "      <td>southland</td>\n",
       "    </tr>\n",
       "    <tr>\n",
       "      <th>5</th>\n",
       "      <td>Air Force</td>\n",
       "      <td>wac</td>\n",
       "    </tr>\n",
       "    <tr>\n",
       "      <th>20</th>\n",
       "      <td>Air Force</td>\n",
       "      <td>mwc</td>\n",
       "    </tr>\n",
       "    <tr>\n",
       "      <th>39</th>\n",
       "      <td>Akron</td>\n",
       "      <td>ovc</td>\n",
       "    </tr>\n",
       "    <tr>\n",
       "      <th>42</th>\n",
       "      <td>Akron</td>\n",
       "      <td>ind</td>\n",
       "    </tr>\n",
       "  </tbody>\n",
       "</table>\n",
       "</div>"
      ],
      "text/plain": [
       "       TeamName ConfAbbrev\n",
       "0   Abilene Chr  southland\n",
       "5     Air Force        wac\n",
       "20    Air Force        mwc\n",
       "39        Akron        ovc\n",
       "42        Akron        ind"
      ]
     },
     "execution_count": 20,
     "metadata": {},
     "output_type": "execute_result"
    }
   ],
   "source": [
    "#merging the two dataframes from above on the teamID index matching the team name with the matching conference name.\n",
    "\n",
    "team_conf_df = pd.merge(teams_df, conf_df, how=\"left\", left_on=[\"TeamID\"], right_on=[\"TeamID\"])\n",
    "team_conf = team_conf_df[[\"TeamName\",\"ConfAbbrev\"]].drop_duplicates(subset=None, keep='first', inplace=False)\n",
    "team_conf.head()"
   ]
  },
  {
   "cell_type": "markdown",
   "metadata": {},
   "source": [
    "### After we merged the team names and conferences we join that dataframe into the one we previously used with the catagorized mascot type dataframe"
   ]
  },
  {
   "cell_type": "code",
   "execution_count": 21,
   "metadata": {},
   "outputs": [
    {
     "data": {
      "text/html": [
       "<div>\n",
       "<style scoped>\n",
       "    .dataframe tbody tr th:only-of-type {\n",
       "        vertical-align: middle;\n",
       "    }\n",
       "\n",
       "    .dataframe tbody tr th {\n",
       "        vertical-align: top;\n",
       "    }\n",
       "\n",
       "    .dataframe thead th {\n",
       "        text-align: right;\n",
       "    }\n",
       "</style>\n",
       "<table border=\"1\" class=\"dataframe\">\n",
       "  <thead>\n",
       "    <tr style=\"text-align: right;\">\n",
       "      <th></th>\n",
       "      <th>id</th>\n",
       "      <th>team</th>\n",
       "      <th>mascot_common_name</th>\n",
       "      <th>win_count</th>\n",
       "      <th>mascot_type</th>\n",
       "      <th>TeamName</th>\n",
       "      <th>ConfAbbrev</th>\n",
       "    </tr>\n",
       "  </thead>\n",
       "  <tbody>\n",
       "    <tr>\n",
       "      <th>0</th>\n",
       "      <td>faeb1160-5d15-4f26-99fc-c441cf21fc7f</td>\n",
       "      <td>Duke</td>\n",
       "      <td>Blue Devil</td>\n",
       "      <td>98</td>\n",
       "      <td>Non_Human</td>\n",
       "      <td>Duke</td>\n",
       "      <td>acc</td>\n",
       "    </tr>\n",
       "    <tr>\n",
       "      <th>1</th>\n",
       "      <td>e9ca48b2-00ba-41c0-a02b-6885a2da1ff1</td>\n",
       "      <td>North Carolina</td>\n",
       "      <td>Sheep</td>\n",
       "      <td>94</td>\n",
       "      <td>Non_Human</td>\n",
       "      <td>North Carolina</td>\n",
       "      <td>acc</td>\n",
       "    </tr>\n",
       "    <tr>\n",
       "      <th>2</th>\n",
       "      <td>fae4855b-1b64-4b40-a632-9ed345e1e952</td>\n",
       "      <td>Kansas</td>\n",
       "      <td>Jayhawk</td>\n",
       "      <td>88</td>\n",
       "      <td>Non_Human</td>\n",
       "      <td>Kansas</td>\n",
       "      <td>big_eight</td>\n",
       "    </tr>\n",
       "    <tr>\n",
       "      <th>3</th>\n",
       "      <td>fae4855b-1b64-4b40-a632-9ed345e1e952</td>\n",
       "      <td>Kansas</td>\n",
       "      <td>Jayhawk</td>\n",
       "      <td>88</td>\n",
       "      <td>Non_Human</td>\n",
       "      <td>Kansas</td>\n",
       "      <td>big_twelve</td>\n",
       "    </tr>\n",
       "    <tr>\n",
       "      <th>4</th>\n",
       "      <td>2267a1f4-68f6-418b-aaf6-2aa0c4b291f1</td>\n",
       "      <td>Kentucky</td>\n",
       "      <td>Wildcat</td>\n",
       "      <td>82</td>\n",
       "      <td>Non_Human</td>\n",
       "      <td>Kentucky</td>\n",
       "      <td>sec</td>\n",
       "    </tr>\n",
       "  </tbody>\n",
       "</table>\n",
       "</div>"
      ],
      "text/plain": [
       "                                     id            team mascot_common_name  \\\n",
       "0  faeb1160-5d15-4f26-99fc-c441cf21fc7f            Duke         Blue Devil   \n",
       "1  e9ca48b2-00ba-41c0-a02b-6885a2da1ff1  North Carolina              Sheep   \n",
       "2  fae4855b-1b64-4b40-a632-9ed345e1e952          Kansas            Jayhawk   \n",
       "3  fae4855b-1b64-4b40-a632-9ed345e1e952          Kansas            Jayhawk   \n",
       "4  2267a1f4-68f6-418b-aaf6-2aa0c4b291f1        Kentucky            Wildcat   \n",
       "\n",
       "   win_count mascot_type        TeamName  ConfAbbrev  \n",
       "0         98   Non_Human            Duke         acc  \n",
       "1         94   Non_Human  North Carolina         acc  \n",
       "2         88   Non_Human          Kansas   big_eight  \n",
       "3         88   Non_Human          Kansas  big_twelve  \n",
       "4         82   Non_Human        Kentucky         sec  "
      ]
     },
     "execution_count": 21,
     "metadata": {},
     "output_type": "execute_result"
    }
   ],
   "source": [
    "# Now merging the above df with the total wins df we used previously with the overall total wins and mascot types.\n",
    "\n",
    "raw_wins_by_conf = pd.merge(sorted_mascot_wins, team_conf, how=\"left\", left_on=[\"team\"], right_on=[\"TeamName\"])\n",
    "wins_by_conf = raw_wins_by_conf.drop_duplicates(subset=None, keep='first', inplace=False)\n",
    "wins_by_conf.head()"
   ]
  },
  {
   "cell_type": "markdown",
   "metadata": {},
   "source": [
    "### Now we send that updated dataframe to our SQL Database and make a query to it returning only the data for the Power 5 conferences (largest conferences)"
   ]
  },
  {
   "cell_type": "code",
   "execution_count": 22,
   "metadata": {},
   "outputs": [
    {
     "data": {
      "text/html": [
       "<div>\n",
       "<style scoped>\n",
       "    .dataframe tbody tr th:only-of-type {\n",
       "        vertical-align: middle;\n",
       "    }\n",
       "\n",
       "    .dataframe tbody tr th {\n",
       "        vertical-align: top;\n",
       "    }\n",
       "\n",
       "    .dataframe thead th {\n",
       "        text-align: right;\n",
       "    }\n",
       "</style>\n",
       "<table border=\"1\" class=\"dataframe\">\n",
       "  <thead>\n",
       "    <tr style=\"text-align: right;\">\n",
       "      <th></th>\n",
       "      <th>team</th>\n",
       "      <th>Total Wins</th>\n",
       "      <th>Mascots</th>\n",
       "      <th>Conference</th>\n",
       "    </tr>\n",
       "  </thead>\n",
       "  <tbody>\n",
       "    <tr>\n",
       "      <th>0</th>\n",
       "      <td>Duke</td>\n",
       "      <td>98</td>\n",
       "      <td>Non_Human</td>\n",
       "      <td>acc</td>\n",
       "    </tr>\n",
       "    <tr>\n",
       "      <th>1</th>\n",
       "      <td>North Carolina</td>\n",
       "      <td>94</td>\n",
       "      <td>Non_Human</td>\n",
       "      <td>acc</td>\n",
       "    </tr>\n",
       "    <tr>\n",
       "      <th>2</th>\n",
       "      <td>Kansas</td>\n",
       "      <td>88</td>\n",
       "      <td>Non_Human</td>\n",
       "      <td>big_twelve</td>\n",
       "    </tr>\n",
       "    <tr>\n",
       "      <th>3</th>\n",
       "      <td>Kentucky</td>\n",
       "      <td>82</td>\n",
       "      <td>Non_Human</td>\n",
       "      <td>sec</td>\n",
       "    </tr>\n",
       "    <tr>\n",
       "      <th>4</th>\n",
       "      <td>Arizona</td>\n",
       "      <td>62</td>\n",
       "      <td>Non_Human</td>\n",
       "      <td>pac_twelve</td>\n",
       "    </tr>\n",
       "  </tbody>\n",
       "</table>\n",
       "</div>"
      ],
      "text/plain": [
       "             team  Total Wins    Mascots  Conference\n",
       "0            Duke          98  Non_Human         acc\n",
       "1  North Carolina          94  Non_Human         acc\n",
       "2          Kansas          88  Non_Human  big_twelve\n",
       "3        Kentucky          82  Non_Human         sec\n",
       "4         Arizona          62  Non_Human  pac_twelve"
      ]
     },
     "execution_count": 22,
     "metadata": {},
     "output_type": "execute_result"
    }
   ],
   "source": [
    "# sending the above df to a tab in our SQL database and pulling from it just the rows and data we need shown.\n",
    "\n",
    "wins_by_conf.to_sql(\"conf_wins\", sqlite3.connect(\"NCAAtournamentStats.db\"), if_exists = \"replace\")\n",
    "\n",
    "wins_by_pow5 = pd.read_sql_query(\"SELECT team, win_count, mascot_type, ConfAbbrev FROM conf_wins WHERE ConfAbbrev = 'acc' OR ConfAbbrev = 'sec' OR ConfAbbrev = 'big_ten' OR ConfAbbrev = 'pac_twelve' OR ConfAbbrev = 'big_twelve'\",con)\n",
    "conf_tally_rn = wins_by_pow5.rename(columns = {'win_count':'Total Wins', 'mascot_type':'Mascots','ConfAbbrev':'Conference'})\n",
    "conf_tally_rn.head()"
   ]
  },
  {
   "cell_type": "code",
   "execution_count": 52,
   "metadata": {},
   "outputs": [
    {
     "data": {
      "image/png": "[encoded data removed]",
      "text/plain": [
       "<Figure size 640x480 with 1 Axes>"
      ]
     },
     "metadata": {},
     "output_type": "display_data"
    }
   ],
   "source": [
    "# creating a stacked bar graph for each Power 5 conference for total wins per mascot type\n",
    "\n",
    "colors = plt.cm.GnBu(np.linspace(.5,2, 6))\n",
    "conf_tally_rn.groupby(['Conference','Mascots'])['Total Wins'].sum().unstack().plot(kind='bar',stacked=True, color=colors, title= 'Mascot Type NCAA Tournamnet Wins by Power 5 Conference Since 1985')\n",
    "plt.legend(loc='center left', bbox_to_anchor=(1.0, 0.5))\n",
    "plt.show()"
   ]
  },
  {
   "cell_type": "markdown",
   "metadata": {},
   "source": [
    "### We again make a SQL Database query for it to return only the data for outside of the Power 5 conferences (largest conferences). As you can see we have some overlapping teams from the Power 5 conferences while they were in other conferences over the years. This fact is it's hard to weed out and we just have to look past the conferences being skewed by those teams. Looking for conferences with < 150 wins."
   ]
  },
  {
   "cell_type": "code",
   "execution_count": 24,
   "metadata": {},
   "outputs": [
    {
     "data": {
      "text/html": [
       "<div>\n",
       "<style scoped>\n",
       "    .dataframe tbody tr th:only-of-type {\n",
       "        vertical-align: middle;\n",
       "    }\n",
       "\n",
       "    .dataframe tbody tr th {\n",
       "        vertical-align: top;\n",
       "    }\n",
       "\n",
       "    .dataframe thead th {\n",
       "        text-align: right;\n",
       "    }\n",
       "</style>\n",
       "<table border=\"1\" class=\"dataframe\">\n",
       "  <thead>\n",
       "    <tr style=\"text-align: right;\">\n",
       "      <th></th>\n",
       "      <th>team</th>\n",
       "      <th>Total Wins</th>\n",
       "      <th>Mascots</th>\n",
       "      <th>Conference</th>\n",
       "    </tr>\n",
       "  </thead>\n",
       "  <tbody>\n",
       "    <tr>\n",
       "      <th>0</th>\n",
       "      <td>Kansas</td>\n",
       "      <td>88</td>\n",
       "      <td>Non_Human</td>\n",
       "      <td>big_eight</td>\n",
       "    </tr>\n",
       "    <tr>\n",
       "      <th>1</th>\n",
       "      <td>Arizona</td>\n",
       "      <td>62</td>\n",
       "      <td>Non_Human</td>\n",
       "      <td>pac_ten</td>\n",
       "    </tr>\n",
       "    <tr>\n",
       "      <th>2</th>\n",
       "      <td>Syracuse</td>\n",
       "      <td>50</td>\n",
       "      <td>Non_Human</td>\n",
       "      <td>big_east</td>\n",
       "    </tr>\n",
       "    <tr>\n",
       "      <th>3</th>\n",
       "      <td>Louisville</td>\n",
       "      <td>47</td>\n",
       "      <td>Non_Human</td>\n",
       "      <td>metro</td>\n",
       "    </tr>\n",
       "    <tr>\n",
       "      <th>4</th>\n",
       "      <td>Louisville</td>\n",
       "      <td>47</td>\n",
       "      <td>Non_Human</td>\n",
       "      <td>cusa</td>\n",
       "    </tr>\n",
       "  </tbody>\n",
       "</table>\n",
       "</div>"
      ],
      "text/plain": [
       "         team  Total Wins    Mascots Conference\n",
       "0      Kansas          88  Non_Human  big_eight\n",
       "1     Arizona          62  Non_Human    pac_ten\n",
       "2    Syracuse          50  Non_Human   big_east\n",
       "3  Louisville          47  Non_Human      metro\n",
       "4  Louisville          47  Non_Human       cusa"
      ]
     },
     "execution_count": 24,
     "metadata": {},
     "output_type": "execute_result"
    }
   ],
   "source": [
    "# pulling the same df from SQL pulling from it every conference but the Power 5 conferences and displying them\n",
    "\n",
    "small_conf_tally = pd.read_sql_query(\"SELECT team, win_count, mascot_type, ConfAbbrev FROM conf_wins WHERE ConfAbbrev != 'acc' AND ConfAbbrev != 'big_ten' AND ConfAbbrev != 'sec' AND ConfAbbrev != 'big_twelve' AND ConfAbbrev != 'pac_twelve'\",con)\n",
    "small_tally_rn = small_conf_tally.rename(columns = {'win_count':'Total Wins', 'mascot_type':'Mascots','ConfAbbrev':'Conference'})\n",
    "small_tally_rn.head()"
   ]
  },
  {
   "cell_type": "code",
   "execution_count": 53,
   "metadata": {},
   "outputs": [
    {
     "data": {
      "text/plain": [
       "<Figure size 600x340 with 0 Axes>"
      ]
     },
     "metadata": {},
     "output_type": "display_data"
    },
    {
     "data": {
      "image/png": "[encoded data removed]",
      "text/plain": [
       "<Figure size 640x480 with 1 Axes>"
      ]
     },
     "metadata": {},
     "output_type": "display_data"
    }
   ],
   "source": [
    "# creating a stacked bar graph for each of the smaller conferences for total wins per mascot type\n",
    "\n",
    "plt.figure(figsize=(7.5,4.25))\n",
    "colors = plt.cm.GnBu(np.linspace(.5,2, 6))\n",
    "small_tally_rn.groupby(['Conference','Mascots'])['Total Wins'].sum().unstack().plot(kind='bar',stacked=True, color=colors, title= 'Mascot Type NCAA Tournamnet Wins by Small Conference Since 1985')\n",
    "plt.legend(loc='center left', bbox_to_anchor=(1.0, 0.5))\n",
    "plt.show()"
   ]
  },
  {
   "cell_type": "markdown",
   "metadata": {},
   "source": [
    "## -In conclusion the data presented in this report shows that there is in fact a trend, at least on the surface, showing Non-Human Mascots win about 72% more often than Human Mascots.\n",
    "## -When breaking the tournamnet wins down by conference it looks like it keeps the same trend of a majority across all Power 5 conferences with Non-Human mascots winning more, however when you start to look at the smaller conferences an increased amount start showing an increase in Human mascot wins with some cases taking the majority of the conference. \n",
    "## -In stating the above points there are clear arguments that this correlation shouldn't bear much weight especially since the \"Top 25 Wins per Team\" and the \"win distribution\" graphs show that the top 10 teams in history are Non-Human Mascots which are skewing the data towards the Non-Humans. In reference to the conference breakdown and the data for the Power 5, or major conferences, it shows the strength of the outliers with the SEC, ACC and PAC 12 beacause for those respective conferences the top team or two are Non-Human and make up the bulk of the tournament appearances thus resulting in the most wins. alternatively, the other Power 5 conferences are more competitive between the members giving a little more diversity in the mascot types but still not enough to even out the Human ratio.\n",
    "\n",
    "### Things to consider moving forwards to further this study:\n",
    "#### - Adding wins from the NCAA Tournament previous to 1985\n",
    "#### - Breaking down the smaller conference teams with human majorities and seeing the reasons and trends\n",
    "#### - Potentially looking at wins from the entire seasons to have a larger sample size"
   ]
  },
  {
   "cell_type": "code",
   "execution_count": null,
   "metadata": {},
   "outputs": [],
   "source": []
  },
  {
   "cell_type": "code",
   "execution_count": null,
   "metadata": {},
   "outputs": [],
   "source": []
  }
 ],
 "metadata": {
  "kernelspec": {
   "display_name": "Python 3",
   "language": "python",
   "name": "python3"
  },
  "language_info": {
   "codemirror_mode": {
    "name": "ipython",
    "version": 3
   },
   "file_extension": ".py",
   "mimetype": "text/x-python",
   "name": "python",
   "nbconvert_exporter": "python",
   "pygments_lexer": "ipython3",
   "version": "3.6.5"
  }
 },
 "nbformat": 4,
 "nbformat_minor": 2
}
